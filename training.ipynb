{
 "cells": [
  {
   "cell_type": "code",
   "execution_count": 1,
   "metadata": {
    "collapsed": true,
    "pycharm": {
     "is_executing": false
    }
   },
   "outputs": [
    {
     "name": "stdout",
     "text": [
      "num_classes is 6",
      "\n",
      "device is cuda:0",
      "\n"
     ],
     "output_type": "stream"
    }
   ],
   "source": [
    "    from facenet_pytorch import MTCNN, training\n",
    "from torch.utils.data import DataLoader, SubsetRandomSampler\n",
    "from torchvision import datasets, transforms, models\n",
    "import numpy as np\n",
    "import torch\n",
    "import time\n",
    "import os\n",
    "\n",
    "\n",
    "\n",
    "dir = os.getcwd()\n",
    "\n",
    "dir = os.path.join(dir, 'data')\n",
    "list = os.listdir(dir) \n",
    "num_classes = len(os.listdir(dir))\n",
    "\n",
    "print(f'num_classes is {num_classes}')\n",
    "\n",
    "#select gpu\n",
    "device = torch.device(\"cuda:0\" if torch.cuda.is_available() else 'cpu')\n",
    "print(f'device is {device}')"
   ]
  },
  {
   "cell_type": "code",
   "execution_count": 2,
   "outputs": [
    {
     "name": "stdout",
     "text": [
      "\rImages processed:        1 of       14",
      "([<PIL.Image.Image image mode=RGB size=1024x1024 at 0x22FBAD72AC8>, <PIL.Image.Image image mode=RGB size=1024x1024 at 0x22FBAD23148>, <PIL.Image.Image image mode=RGB size=1024x1024 at 0x22FBAD2BA48>, <PIL.Image.Image image mode=RGB size=1024x1024 at 0x22FBAD32388>, <PIL.Image.Image image mode=RGB size=1024x1024 at 0x22FBAD32508>, <PIL.Image.Image image mode=RGB size=1024x1024 at 0x22FBAD32788>, <PIL.Image.Image image mode=RGB size=1024x1024 at 0x22FBAD32908>, <PIL.Image.Image image mode=RGB size=1024x1024 at 0x22FBAD329C8>, <PIL.Image.Image image mode=RGB size=1024x1024 at 0x22FBAD32B48>, <PIL.Image.Image image mode=RGB size=1024x1024 at 0x22FBAD32688>, <PIL.Image.Image image mode=RGB size=1024x1024 at 0x22FBAD32DC8>, <PIL.Image.Image image mode=RGB size=1024x1024 at 0x22FBAD32F08>, <PIL.Image.Image image mode=RGB size=1024x1024 at 0x22FBAD3B148>, <PIL.Image.Image image mode=RGB size=1024x1024 at 0x22FBAD3B2C8>, <PIL.Image.Image image mode=RGB size=1024x1024 at 0x22FBAD3B448>, <PIL.Image.Image image mode=RGB size=1024x1024 at 0x22FBAD3B5C8>], ['E:\\\\get-link-idol\\\\data_cropped\\\\UGIRLS – Ai You Wu App No.1166 Han An Qi (韩安琪)\\\\UGIRLS-Ai-You-Wu-App-No.1166-Han-An-Qi-MrCong.com-001.jpg', 'E:\\\\get-link-idol\\\\data_cropped\\\\UGIRLS – Ai You Wu App No.1166 Han An Qi (韩安琪)\\\\UGIRLS-Ai-You-Wu-App-No.1166-Han-An-Qi-MrCong.com-002.jpg', 'E:\\\\get-link-idol\\\\data_cropped\\\\UGIRLS – Ai You Wu App No.1166 Han An Qi (韩安琪)\\\\UGIRLS-Ai-You-Wu-App-No.1166-Han-An-Qi-MrCong.com-003.jpg', 'E:\\\\get-link-idol\\\\data_cropped\\\\UGIRLS – Ai You Wu App No.1166 Han An Qi (韩安琪)\\\\UGIRLS-Ai-You-Wu-App-No.1166-Han-An-Qi-MrCong.com-004.jpg', 'E:\\\\get-link-idol\\\\data_cropped\\\\UGIRLS – Ai You Wu App No.1166 Han An Qi (韩安琪)\\\\UGIRLS-Ai-You-Wu-App-No.1166-Han-An-Qi-MrCong.com-005.jpg', 'E:\\\\get-link-idol\\\\data_cropped\\\\UGIRLS – Ai You Wu App No.1166 Han An Qi (韩安琪)\\\\UGIRLS-Ai-You-Wu-App-No.1166-Han-An-Qi-MrCong.com-006.jpg', 'E:\\\\get-link-idol\\\\data_cropped\\\\UGIRLS – Ai You Wu App No.1166 Han An Qi (韩安琪)\\\\UGIRLS-Ai-You-Wu-App-No.1166-Han-An-Qi-MrCong.com-007.jpg', 'E:\\\\get-link-idol\\\\data_cropped\\\\UGIRLS – Ai You Wu App No.1166 Han An Qi (韩安琪)\\\\UGIRLS-Ai-You-Wu-App-No.1166-Han-An-Qi-MrCong.com-008.jpg', 'E:\\\\get-link-idol\\\\data_cropped\\\\UGIRLS – Ai You Wu App No.1166 Han An Qi (韩安琪)\\\\UGIRLS-Ai-You-Wu-App-No.1166-Han-An-Qi-MrCong.com-009.jpg', 'E:\\\\get-link-idol\\\\data_cropped\\\\UGIRLS – Ai You Wu App No.1166 Han An Qi (韩安琪)\\\\UGIRLS-Ai-You-Wu-App-No.1166-Han-An-Qi-MrCong.com-010.jpg', 'E:\\\\get-link-idol\\\\data_cropped\\\\UGIRLS – Ai You Wu App No.1166 Han An Qi (韩安琪)\\\\UGIRLS-Ai-You-Wu-App-No.1166-Han-An-Qi-MrCong.com-011.jpg', 'E:\\\\get-link-idol\\\\data_cropped\\\\UGIRLS – Ai You Wu App No.1166 Han An Qi (韩安琪)\\\\UGIRLS-Ai-You-Wu-App-No.1166-Han-An-Qi-MrCong.com-012.jpg', 'E:\\\\get-link-idol\\\\data_cropped\\\\UGIRLS – Ai You Wu App No.1166 Han An Qi (韩安琪)\\\\UGIRLS-Ai-You-Wu-App-No.1166-Han-An-Qi-MrCong.com-013.jpg', 'E:\\\\get-link-idol\\\\data_cropped\\\\UGIRLS – Ai You Wu App No.1166 Han An Qi (韩安琪)\\\\UGIRLS-Ai-You-Wu-App-No.1166-Han-An-Qi-MrCong.com-014.jpg', 'E:\\\\get-link-idol\\\\data_cropped\\\\UGIRLS – Ai You Wu App No.1166 Han An Qi (韩安琪)\\\\UGIRLS-Ai-You-Wu-App-No.1166-Han-An-Qi-MrCong.com-015.jpg', 'E:\\\\get-link-idol\\\\data_cropped\\\\UGIRLS – Ai You Wu App No.1166 Han An Qi (韩安琪)\\\\UGIRLS-Ai-You-Wu-App-No.1166-Han-An-Qi-MrCong.com-016.jpg'])",
      "\n",
      "\rImages processed:        2 of       14",
      "([<PIL.Image.Image image mode=RGB size=1024x1024 at 0x22FBAD3BB88>, <PIL.Image.Image image mode=RGB size=1024x1024 at 0x22FBAD3B8C8>, <PIL.Image.Image image mode=RGB size=1024x1024 at 0x22FBAD47088>, <PIL.Image.Image image mode=RGB size=1024x1024 at 0x22FBAD470C8>, <PIL.Image.Image image mode=RGB size=1024x1024 at 0x22FBAD47248>, <PIL.Image.Image image mode=RGB size=1024x1024 at 0x22FBAD473C8>, <PIL.Image.Image image mode=RGB size=1024x1024 at 0x22FBAD47448>, <PIL.Image.Image image mode=RGB size=1024x1024 at 0x22FBAD47508>, <PIL.Image.Image image mode=RGB size=1024x1024 at 0x22FBAD47688>, <PIL.Image.Image image mode=RGB size=1024x1024 at 0x22FBAD47148>, <PIL.Image.Image image mode=RGB size=1024x1024 at 0x22FBAD47908>, <PIL.Image.Image image mode=RGB size=1024x1024 at 0x22FBAD47A48>, <PIL.Image.Image image mode=RGB size=1024x1024 at 0x22FBAD47C48>, <PIL.Image.Image image mode=RGB size=1024x1024 at 0x22FBAD47DC8>, <PIL.Image.Image image mode=RGB size=1024x1024 at 0x22FBAD47F48>, <PIL.Image.Image image mode=RGB size=1024x1024 at 0x22FBAD4D108>], ['E:\\\\get-link-idol\\\\data_cropped\\\\UGIRLS – Ai You Wu App No.1166 Han An Qi (韩安琪)\\\\UGIRLS-Ai-You-Wu-App-No.1166-Han-An-Qi-MrCong.com-017.jpg', 'E:\\\\get-link-idol\\\\data_cropped\\\\UGIRLS – Ai You Wu App No.1166 Han An Qi (韩安琪)\\\\UGIRLS-Ai-You-Wu-App-No.1166-Han-An-Qi-MrCong.com-018.jpg', 'E:\\\\get-link-idol\\\\data_cropped\\\\UGIRLS – Ai You Wu App No.1166 Han An Qi (韩安琪)\\\\UGIRLS-Ai-You-Wu-App-No.1166-Han-An-Qi-MrCong.com-019.jpg', 'E:\\\\get-link-idol\\\\data_cropped\\\\UGIRLS – Ai You Wu App No.1166 Han An Qi (韩安琪)\\\\UGIRLS-Ai-You-Wu-App-No.1166-Han-An-Qi-MrCong.com-020.jpg', 'E:\\\\get-link-idol\\\\data_cropped\\\\UGIRLS – Ai You Wu App No.1166 Han An Qi (韩安琪)\\\\UGIRLS-Ai-You-Wu-App-No.1166-Han-An-Qi-MrCong.com-021.jpg', 'E:\\\\get-link-idol\\\\data_cropped\\\\UGIRLS – Ai You Wu App No.1166 Han An Qi (韩安琪)\\\\UGIRLS-Ai-You-Wu-App-No.1166-Han-An-Qi-MrCong.com-022.jpg', 'E:\\\\get-link-idol\\\\data_cropped\\\\UGIRLS – Ai You Wu App No.1166 Han An Qi (韩安琪)\\\\UGIRLS-Ai-You-Wu-App-No.1166-Han-An-Qi-MrCong.com-023.jpg', 'E:\\\\get-link-idol\\\\data_cropped\\\\UGIRLS – Ai You Wu App No.1166 Han An Qi (韩安琪)\\\\UGIRLS-Ai-You-Wu-App-No.1166-Han-An-Qi-MrCong.com-024.jpg', 'E:\\\\get-link-idol\\\\data_cropped\\\\UGIRLS – Ai You Wu App No.1166 Han An Qi (韩安琪)\\\\UGIRLS-Ai-You-Wu-App-No.1166-Han-An-Qi-MrCong.com-025.jpg', 'E:\\\\get-link-idol\\\\data_cropped\\\\UGIRLS – Ai You Wu App No.1166 Han An Qi (韩安琪)\\\\UGIRLS-Ai-You-Wu-App-No.1166-Han-An-Qi-MrCong.com-026.jpg', 'E:\\\\get-link-idol\\\\data_cropped\\\\UGIRLS – Ai You Wu App No.1166 Han An Qi (韩安琪)\\\\UGIRLS-Ai-You-Wu-App-No.1166-Han-An-Qi-MrCong.com-027.jpg', 'E:\\\\get-link-idol\\\\data_cropped\\\\UGIRLS – Ai You Wu App No.1166 Han An Qi (韩安琪)\\\\UGIRLS-Ai-You-Wu-App-No.1166-Han-An-Qi-MrCong.com-028.jpg', 'E:\\\\get-link-idol\\\\data_cropped\\\\UGIRLS – Ai You Wu App No.1166 Han An Qi (韩安琪)\\\\UGIRLS-Ai-You-Wu-App-No.1166-Han-An-Qi-MrCong.com-029.jpg', 'E:\\\\get-link-idol\\\\data_cropped\\\\UGIRLS – Ai You Wu App No.1166 Han An Qi (韩安琪)\\\\UGIRLS-Ai-You-Wu-App-No.1166-Han-An-Qi-MrCong.com-030.jpg', 'E:\\\\get-link-idol\\\\data_cropped\\\\UGIRLS – Ai You Wu App No.1166 Han An Qi (韩安琪)\\\\UGIRLS-Ai-You-Wu-App-No.1166-Han-An-Qi-MrCong.com-031.jpg', 'E:\\\\get-link-idol\\\\data_cropped\\\\UGIRLS – Ai You Wu App No.1166 Han An Qi (韩安琪)\\\\UGIRLS-Ai-You-Wu-App-No.1166-Han-An-Qi-MrCong.com-032.jpg'])",
      "\n",
      "\rImages processed:        3 of       14",
      "([<PIL.Image.Image image mode=RGB size=1024x1024 at 0x22FBAD471C8>, <PIL.Image.Image image mode=RGB size=1024x1024 at 0x22FBAD32808>, <PIL.Image.Image image mode=RGB size=1024x1024 at 0x22FBAD3B2C8>, <PIL.Image.Image image mode=RGB size=1024x1024 at 0x22FBAD3B0C8>, <PIL.Image.Image image mode=RGB size=1024x1024 at 0x22FBAD3B3C8>, <PIL.Image.Image image mode=RGB size=1024x1024 at 0x22F98A18CC8>, <PIL.Image.Image image mode=RGB size=1024x1024 at 0x22FBAD4D388>, <PIL.Image.Image image mode=RGB size=1024x1024 at 0x22FBAD4D408>, <PIL.Image.Image image mode=RGB size=1024x1024 at 0x22FBAD4D508>, <PIL.Image.Image image mode=RGB size=1024x1024 at 0x22FBAD3B5C8>, <PIL.Image.Image image mode=RGB size=1024x1024 at 0x22FBAD4D648>, <PIL.Image.Image image mode=RGB size=1024x1024 at 0x22FBAD4D6C8>, <PIL.Image.Image image mode=RGB size=1024x1024 at 0x22FBAD4D688>, <PIL.Image.Image image mode=RGB size=1024x1024 at 0x22FBAD4D748>, <PIL.Image.Image image mode=RGB size=1024x1024 at 0x22FBAD4D7C8>, <PIL.Image.Image image mode=RGB size=1024x1024 at 0x22FBAD4D848>], ['E:\\\\get-link-idol\\\\data_cropped\\\\UGIRLS – Ai You Wu App No.1166 Han An Qi (韩安琪)\\\\UGIRLS-Ai-You-Wu-App-No.1166-Han-An-Qi-MrCong.com-033.jpg', 'E:\\\\get-link-idol\\\\data_cropped\\\\UGIRLS – Ai You Wu App No.1166 Han An Qi (韩安琪)\\\\UGIRLS-Ai-You-Wu-App-No.1166-Han-An-Qi-MrCong.com-034.jpg', 'E:\\\\get-link-idol\\\\data_cropped\\\\UGIRLS – Ai You Wu App No.1166 Han An Qi (韩安琪)\\\\UGIRLS-Ai-You-Wu-App-No.1166-Han-An-Qi-MrCong.com-035.jpg', 'E:\\\\get-link-idol\\\\data_cropped\\\\UGIRLS – Ai You Wu App No.1308 毛COCO\\\\UGIRLS-Ai-You-Wu-App-No.1308-COCO-MrCong.com-001.jpg', 'E:\\\\get-link-idol\\\\data_cropped\\\\UGIRLS – Ai You Wu App No.1308 毛COCO\\\\UGIRLS-Ai-You-Wu-App-No.1308-COCO-MrCong.com-002.jpg', 'E:\\\\get-link-idol\\\\data_cropped\\\\UGIRLS – Ai You Wu App No.1308 毛COCO\\\\UGIRLS-Ai-You-Wu-App-No.1308-COCO-MrCong.com-003.jpg', 'E:\\\\get-link-idol\\\\data_cropped\\\\UGIRLS – Ai You Wu App No.1308 毛COCO\\\\UGIRLS-Ai-You-Wu-App-No.1308-COCO-MrCong.com-004.jpg', 'E:\\\\get-link-idol\\\\data_cropped\\\\UGIRLS – Ai You Wu App No.1308 毛COCO\\\\UGIRLS-Ai-You-Wu-App-No.1308-COCO-MrCong.com-005.jpg', 'E:\\\\get-link-idol\\\\data_cropped\\\\UGIRLS – Ai You Wu App No.1308 毛COCO\\\\UGIRLS-Ai-You-Wu-App-No.1308-COCO-MrCong.com-006.jpg', 'E:\\\\get-link-idol\\\\data_cropped\\\\UGIRLS – Ai You Wu App No.1308 毛COCO\\\\UGIRLS-Ai-You-Wu-App-No.1308-COCO-MrCong.com-007.jpg', 'E:\\\\get-link-idol\\\\data_cropped\\\\UGIRLS – Ai You Wu App No.1308 毛COCO\\\\UGIRLS-Ai-You-Wu-App-No.1308-COCO-MrCong.com-008.jpg', 'E:\\\\get-link-idol\\\\data_cropped\\\\UGIRLS – Ai You Wu App No.1308 毛COCO\\\\UGIRLS-Ai-You-Wu-App-No.1308-COCO-MrCong.com-009.jpg', 'E:\\\\get-link-idol\\\\data_cropped\\\\UGIRLS – Ai You Wu App No.1308 毛COCO\\\\UGIRLS-Ai-You-Wu-App-No.1308-COCO-MrCong.com-010.jpg', 'E:\\\\get-link-idol\\\\data_cropped\\\\UGIRLS – Ai You Wu App No.1308 毛COCO\\\\UGIRLS-Ai-You-Wu-App-No.1308-COCO-MrCong.com-011.jpg', 'E:\\\\get-link-idol\\\\data_cropped\\\\UGIRLS – Ai You Wu App No.1308 毛COCO\\\\UGIRLS-Ai-You-Wu-App-No.1308-COCO-MrCong.com-012.jpg', 'E:\\\\get-link-idol\\\\data_cropped\\\\UGIRLS – Ai You Wu App No.1308 毛COCO\\\\UGIRLS-Ai-You-Wu-App-No.1308-COCO-MrCong.com-013.jpg'])",
      "\n",
      "\rImages processed:        4 of       14",
      "([<PIL.Image.Image image mode=RGB size=1024x1024 at 0x22FBAD47208>, <PIL.Image.Image image mode=RGB size=1024x1024 at 0x22FBAD47508>, <PIL.Image.Image image mode=RGB size=1024x1024 at 0x22FBAD47108>, <PIL.Image.Image image mode=RGB size=1024x1024 at 0x22FBAD47408>, <PIL.Image.Image image mode=RGB size=1024x1024 at 0x22FBAD47688>, <PIL.Image.Image image mode=RGB size=1024x1024 at 0x22FBAD47988>, <PIL.Image.Image image mode=RGB size=1024x1024 at 0x22FBAD47BC8>, <PIL.Image.Image image mode=RGB size=1024x1024 at 0x22FBAD47C48>, <PIL.Image.Image image mode=RGB size=1024x1024 at 0x22FBAD47D48>, <PIL.Image.Image image mode=RGB size=1024x1024 at 0x22FBAD47608>, <PIL.Image.Image image mode=RGB size=1024x1024 at 0x22FBAD23F08>, <PIL.Image.Image image mode=RGB size=1024x1024 at 0x22FBAD72AC8>, <PIL.Image.Image image mode=RGB size=1024x1024 at 0x22FBAD4D088>, <PIL.Image.Image image mode=RGB size=1024x1024 at 0x22FBAD4D208>, <PIL.Image.Image image mode=RGB size=1024x1024 at 0x22FBAD4D988>, <PIL.Image.Image image mode=RGB size=1024x1024 at 0x22FBAD4DA08>], ['E:\\\\get-link-idol\\\\data_cropped\\\\UGIRLS – Ai You Wu App No.1308 毛COCO\\\\UGIRLS-Ai-You-Wu-App-No.1308-COCO-MrCong.com-014.jpg', 'E:\\\\get-link-idol\\\\data_cropped\\\\UGIRLS – Ai You Wu App No.1308 毛COCO\\\\UGIRLS-Ai-You-Wu-App-No.1308-COCO-MrCong.com-015.jpg', 'E:\\\\get-link-idol\\\\data_cropped\\\\UGIRLS – Ai You Wu App No.1308 毛COCO\\\\UGIRLS-Ai-You-Wu-App-No.1308-COCO-MrCong.com-016.jpg', 'E:\\\\get-link-idol\\\\data_cropped\\\\UGIRLS – Ai You Wu App No.1308 毛COCO\\\\UGIRLS-Ai-You-Wu-App-No.1308-COCO-MrCong.com-017.jpg', 'E:\\\\get-link-idol\\\\data_cropped\\\\UGIRLS – Ai You Wu App No.1308 毛COCO\\\\UGIRLS-Ai-You-Wu-App-No.1308-COCO-MrCong.com-018.jpg', 'E:\\\\get-link-idol\\\\data_cropped\\\\UGIRLS – Ai You Wu App No.1308 毛COCO\\\\UGIRLS-Ai-You-Wu-App-No.1308-COCO-MrCong.com-019.jpg', 'E:\\\\get-link-idol\\\\data_cropped\\\\UGIRLS – Ai You Wu App No.1308 毛COCO\\\\UGIRLS-Ai-You-Wu-App-No.1308-COCO-MrCong.com-020.jpg', 'E:\\\\get-link-idol\\\\data_cropped\\\\UGIRLS – Ai You Wu App No.1308 毛COCO\\\\UGIRLS-Ai-You-Wu-App-No.1308-COCO-MrCong.com-021.jpg', 'E:\\\\get-link-idol\\\\data_cropped\\\\UGIRLS – Ai You Wu App No.1308 毛COCO\\\\UGIRLS-Ai-You-Wu-App-No.1308-COCO-MrCong.com-022.jpg', 'E:\\\\get-link-idol\\\\data_cropped\\\\UGIRLS – Ai You Wu App No.1308 毛COCO\\\\UGIRLS-Ai-You-Wu-App-No.1308-COCO-MrCong.com-023.jpg', 'E:\\\\get-link-idol\\\\data_cropped\\\\UGIRLS – Ai You Wu App No.1308 毛COCO\\\\UGIRLS-Ai-You-Wu-App-No.1308-COCO-MrCong.com-024.jpg', 'E:\\\\get-link-idol\\\\data_cropped\\\\UGIRLS – Ai You Wu App No.1308 毛COCO\\\\UGIRLS-Ai-You-Wu-App-No.1308-COCO-MrCong.com-025.jpg', 'E:\\\\get-link-idol\\\\data_cropped\\\\UGIRLS – Ai You Wu App No.1308 毛COCO\\\\UGIRLS-Ai-You-Wu-App-No.1308-COCO-MrCong.com-026.jpg', 'E:\\\\get-link-idol\\\\data_cropped\\\\UGIRLS – Ai You Wu App No.1308 毛COCO\\\\UGIRLS-Ai-You-Wu-App-No.1308-COCO-MrCong.com-027.jpg', 'E:\\\\get-link-idol\\\\data_cropped\\\\UGIRLS – Ai You Wu App No.1308 毛COCO\\\\UGIRLS-Ai-You-Wu-App-No.1308-COCO-MrCong.com-028.jpg', 'E:\\\\get-link-idol\\\\data_cropped\\\\UGIRLS – Ai You Wu App No.1308 毛COCO\\\\UGIRLS-Ai-You-Wu-App-No.1308-COCO-MrCong.com-029.jpg'])",
      "\n",
      "\rImages processed:        5 of       14",
      "([<PIL.Image.Image image mode=RGB size=1024x1024 at 0x22FBAD471C8>, <PIL.Image.Image image mode=RGB size=1024x1024 at 0x22FBAD3B448>, <PIL.Image.Image image mode=RGB size=1024x1024 at 0x22FBAD3BB88>, <PIL.Image.Image image mode=RGB size=1024x1024 at 0x22FBAD3B148>, <PIL.Image.Image image mode=RGB size=1024x1024 at 0x22FBAD3B3C8>, <PIL.Image.Image image mode=RGB size=1024x1024 at 0x22FBAD4D5C8>, <PIL.Image.Image image mode=RGB size=1024x1024 at 0x22FBAD4D648>, <PIL.Image.Image image mode=RGB size=1024x1024 at 0x22FBAD4D608>, <PIL.Image.Image image mode=RGB size=1024x1024 at 0x22FBAD4D688>, <PIL.Image.Image image mode=RGB size=1024x1024 at 0x22FBAD4D388>, <PIL.Image.Image image mode=RGB size=1024x1024 at 0x22FBAD4D788>, <PIL.Image.Image image mode=RGB size=1024x1024 at 0x22FBAD4D888>, <PIL.Image.Image image mode=RGB size=1024x1024 at 0x22FBAD4D908>, <PIL.Image.Image image mode=RGB size=1024x1024 at 0x22FBAD4DB08>, <PIL.Image.Image image mode=RGB size=1024x1024 at 0x22FBAD4DB88>, <PIL.Image.Image image mode=RGB size=1024x1024 at 0x22FBAD4DBC8>], ['E:\\\\get-link-idol\\\\data_cropped\\\\UGIRLS – Ai You Wu App No.1308 毛COCO\\\\UGIRLS-Ai-You-Wu-App-No.1308-COCO-MrCong.com-030.jpg', 'E:\\\\get-link-idol\\\\data_cropped\\\\UGIRLS – Ai You Wu App No.1308 毛COCO\\\\UGIRLS-Ai-You-Wu-App-No.1308-COCO-MrCong.com-031.jpg', 'E:\\\\get-link-idol\\\\data_cropped\\\\UGIRLS – Ai You Wu App No.1308 毛COCO\\\\UGIRLS-Ai-You-Wu-App-No.1308-COCO-MrCong.com-032.jpg', 'E:\\\\get-link-idol\\\\data_cropped\\\\UGIRLS – Ai You Wu App No.1308 毛COCO\\\\UGIRLS-Ai-You-Wu-App-No.1308-COCO-MrCong.com-033.jpg', 'E:\\\\get-link-idol\\\\data_cropped\\\\UGIRLS – Ai You Wu App No.1308 毛COCO\\\\UGIRLS-Ai-You-Wu-App-No.1308-COCO-MrCong.com-034.jpg', 'E:\\\\get-link-idol\\\\data_cropped\\\\UGIRLS – Ai You Wu App No.1308 毛COCO\\\\UGIRLS-Ai-You-Wu-App-No.1308-COCO-MrCong.com-035.jpg', 'E:\\\\get-link-idol\\\\data_cropped\\\\UGIRLS – Ai You Wu App No.1317 Xiao Lu (小鹿)\\\\UGIRLS-Ai-You-Wu-App-No.1317-Xiao-Lu-MrCong.com-001.jpg', 'E:\\\\get-link-idol\\\\data_cropped\\\\UGIRLS – Ai You Wu App No.1317 Xiao Lu (小鹿)\\\\UGIRLS-Ai-You-Wu-App-No.1317-Xiao-Lu-MrCong.com-002.jpg', 'E:\\\\get-link-idol\\\\data_cropped\\\\UGIRLS – Ai You Wu App No.1317 Xiao Lu (小鹿)\\\\UGIRLS-Ai-You-Wu-App-No.1317-Xiao-Lu-MrCong.com-003.jpg', 'E:\\\\get-link-idol\\\\data_cropped\\\\UGIRLS – Ai You Wu App No.1317 Xiao Lu (小鹿)\\\\UGIRLS-Ai-You-Wu-App-No.1317-Xiao-Lu-MrCong.com-004.jpg', 'E:\\\\get-link-idol\\\\data_cropped\\\\UGIRLS – Ai You Wu App No.1317 Xiao Lu (小鹿)\\\\UGIRLS-Ai-You-Wu-App-No.1317-Xiao-Lu-MrCong.com-005.jpg', 'E:\\\\get-link-idol\\\\data_cropped\\\\UGIRLS – Ai You Wu App No.1317 Xiao Lu (小鹿)\\\\UGIRLS-Ai-You-Wu-App-No.1317-Xiao-Lu-MrCong.com-006.jpg', 'E:\\\\get-link-idol\\\\data_cropped\\\\UGIRLS – Ai You Wu App No.1317 Xiao Lu (小鹿)\\\\UGIRLS-Ai-You-Wu-App-No.1317-Xiao-Lu-MrCong.com-007.jpg', 'E:\\\\get-link-idol\\\\data_cropped\\\\UGIRLS – Ai You Wu App No.1317 Xiao Lu (小鹿)\\\\UGIRLS-Ai-You-Wu-App-No.1317-Xiao-Lu-MrCong.com-008.jpg', 'E:\\\\get-link-idol\\\\data_cropped\\\\UGIRLS – Ai You Wu App No.1317 Xiao Lu (小鹿)\\\\UGIRLS-Ai-You-Wu-App-No.1317-Xiao-Lu-MrCong.com-009.jpg', 'E:\\\\get-link-idol\\\\data_cropped\\\\UGIRLS – Ai You Wu App No.1317 Xiao Lu (小鹿)\\\\UGIRLS-Ai-You-Wu-App-No.1317-Xiao-Lu-MrCong.com-010.jpg'])",
      "\n",
      "\rImages processed:        6 of       14",
      "([<PIL.Image.Image image mode=RGB size=1024x1024 at 0x22FBAD47988>, <PIL.Image.Image image mode=RGB size=1024x1024 at 0x22FBAD47F48>, <PIL.Image.Image image mode=RGB size=1024x1024 at 0x22FBAD47A48>, <PIL.Image.Image image mode=RGB size=1024x1024 at 0x22FBAD47EC8>, <PIL.Image.Image image mode=RGB size=1024x1024 at 0x22FBAD47D48>, <PIL.Image.Image image mode=RGB size=1024x1024 at 0x22FBAD47608>, <PIL.Image.Image image mode=RGB size=1024x1024 at 0x22FBAD4D288>, <PIL.Image.Image image mode=RGB size=1024x1024 at 0x22FBAD4D8C8>, <PIL.Image.Image image mode=RGB size=1024x1024 at 0x22FBAD4D948>, <PIL.Image.Image image mode=RGB size=1024x1024 at 0x22FBAD47248>, <PIL.Image.Image image mode=RGB size=1024x1024 at 0x22FBAD4D988>, <PIL.Image.Image image mode=RGB size=1024x1024 at 0x22FBAD4DC48>, <PIL.Image.Image image mode=RGB size=1024x1024 at 0x22FBAD4DCC8>, <PIL.Image.Image image mode=RGB size=1024x1024 at 0x22FBAD4DD08>, <PIL.Image.Image image mode=RGB size=1024x1024 at 0x22FBAD4DD88>, <PIL.Image.Image image mode=RGB size=1024x1024 at 0x22FBAD4DE08>], ['E:\\\\get-link-idol\\\\data_cropped\\\\UGIRLS – Ai You Wu App No.1317 Xiao Lu (小鹿)\\\\UGIRLS-Ai-You-Wu-App-No.1317-Xiao-Lu-MrCong.com-011.jpg', 'E:\\\\get-link-idol\\\\data_cropped\\\\UGIRLS – Ai You Wu App No.1317 Xiao Lu (小鹿)\\\\UGIRLS-Ai-You-Wu-App-No.1317-Xiao-Lu-MrCong.com-012.jpg', 'E:\\\\get-link-idol\\\\data_cropped\\\\UGIRLS – Ai You Wu App No.1317 Xiao Lu (小鹿)\\\\UGIRLS-Ai-You-Wu-App-No.1317-Xiao-Lu-MrCong.com-013.jpg', 'E:\\\\get-link-idol\\\\data_cropped\\\\UGIRLS – Ai You Wu App No.1317 Xiao Lu (小鹿)\\\\UGIRLS-Ai-You-Wu-App-No.1317-Xiao-Lu-MrCong.com-014.jpg', 'E:\\\\get-link-idol\\\\data_cropped\\\\UGIRLS – Ai You Wu App No.1317 Xiao Lu (小鹿)\\\\UGIRLS-Ai-You-Wu-App-No.1317-Xiao-Lu-MrCong.com-015.jpg', 'E:\\\\get-link-idol\\\\data_cropped\\\\UGIRLS – Ai You Wu App No.1317 Xiao Lu (小鹿)\\\\UGIRLS-Ai-You-Wu-App-No.1317-Xiao-Lu-MrCong.com-016.jpg', 'E:\\\\get-link-idol\\\\data_cropped\\\\UGIRLS – Ai You Wu App No.1317 Xiao Lu (小鹿)\\\\UGIRLS-Ai-You-Wu-App-No.1317-Xiao-Lu-MrCong.com-017.jpg', 'E:\\\\get-link-idol\\\\data_cropped\\\\UGIRLS – Ai You Wu App No.1317 Xiao Lu (小鹿)\\\\UGIRLS-Ai-You-Wu-App-No.1317-Xiao-Lu-MrCong.com-018.jpg', 'E:\\\\get-link-idol\\\\data_cropped\\\\UGIRLS – Ai You Wu App No.1317 Xiao Lu (小鹿)\\\\UGIRLS-Ai-You-Wu-App-No.1317-Xiao-Lu-MrCong.com-019.jpg', 'E:\\\\get-link-idol\\\\data_cropped\\\\UGIRLS – Ai You Wu App No.1317 Xiao Lu (小鹿)\\\\UGIRLS-Ai-You-Wu-App-No.1317-Xiao-Lu-MrCong.com-020.jpg', 'E:\\\\get-link-idol\\\\data_cropped\\\\UGIRLS – Ai You Wu App No.1317 Xiao Lu (小鹿)\\\\UGIRLS-Ai-You-Wu-App-No.1317-Xiao-Lu-MrCong.com-021.jpg', 'E:\\\\get-link-idol\\\\data_cropped\\\\UGIRLS – Ai You Wu App No.1317 Xiao Lu (小鹿)\\\\UGIRLS-Ai-You-Wu-App-No.1317-Xiao-Lu-MrCong.com-022.jpg', 'E:\\\\get-link-idol\\\\data_cropped\\\\UGIRLS – Ai You Wu App No.1317 Xiao Lu (小鹿)\\\\UGIRLS-Ai-You-Wu-App-No.1317-Xiao-Lu-MrCong.com-023.jpg', 'E:\\\\get-link-idol\\\\data_cropped\\\\UGIRLS – Ai You Wu App No.1317 Xiao Lu (小鹿)\\\\UGIRLS-Ai-You-Wu-App-No.1317-Xiao-Lu-MrCong.com-024.jpg', 'E:\\\\get-link-idol\\\\data_cropped\\\\UGIRLS – Ai You Wu App No.1317 Xiao Lu (小鹿)\\\\UGIRLS-Ai-You-Wu-App-No.1317-Xiao-Lu-MrCong.com-025.jpg', 'E:\\\\get-link-idol\\\\data_cropped\\\\UGIRLS – Ai You Wu App No.1317 Xiao Lu (小鹿)\\\\UGIRLS-Ai-You-Wu-App-No.1317-Xiao-Lu-MrCong.com-026.jpg'])",
      "\n",
      "\rImages processed:        7 of       14",
      "([<PIL.Image.Image image mode=RGB size=1024x1024 at 0x22FBAD3B3C8>, <PIL.Image.Image image mode=RGB size=1024x1024 at 0x22FBAD3B0C8>, <PIL.Image.Image image mode=RGB size=1024x1024 at 0x22FBAD72AC8>, <PIL.Image.Image image mode=RGB size=1024x1024 at 0x22FBAD4D648>, <PIL.Image.Image image mode=RGB size=1024x1024 at 0x22FBAD4D588>, <PIL.Image.Image image mode=RGB size=1024x1024 at 0x22FBAD4D688>, <PIL.Image.Image image mode=RGB size=1024x1024 at 0x22FBAD4D388>, <PIL.Image.Image image mode=RGB size=1024x1024 at 0x22FBAD4D888>, <PIL.Image.Image image mode=RGB size=1024x1024 at 0x22FBAD4D908>, <PIL.Image.Image image mode=RGB size=1024x1024 at 0x22FBAD4D6C8>, <PIL.Image.Image image mode=RGB size=1024x1024 at 0x22FBAD4D848>, <PIL.Image.Image image mode=RGB size=1024x1024 at 0x22FBAD4DA48>, <PIL.Image.Image image mode=RGB size=1024x1024 at 0x22FBAD4DAC8>, <PIL.Image.Image image mode=RGB size=1024x1024 at 0x22FBAD4DB48>, <PIL.Image.Image image mode=RGB size=1024x1024 at 0x22FBAD4DE48>, <PIL.Image.Image image mode=RGB size=1024x1024 at 0x22FBAD4DEC8>], ['E:\\\\get-link-idol\\\\data_cropped\\\\UGIRLS – Ai You Wu App No.1317 Xiao Lu (小鹿)\\\\UGIRLS-Ai-You-Wu-App-No.1317-Xiao-Lu-MrCong.com-027.jpg', 'E:\\\\get-link-idol\\\\data_cropped\\\\UGIRLS – Ai You Wu App No.1317 Xiao Lu (小鹿)\\\\UGIRLS-Ai-You-Wu-App-No.1317-Xiao-Lu-MrCong.com-028.jpg', 'E:\\\\get-link-idol\\\\data_cropped\\\\UGIRLS – Ai You Wu App No.1317 Xiao Lu (小鹿)\\\\UGIRLS-Ai-You-Wu-App-No.1317-Xiao-Lu-MrCong.com-029.jpg', 'E:\\\\get-link-idol\\\\data_cropped\\\\UGIRLS – Ai You Wu App No.1317 Xiao Lu (小鹿)\\\\UGIRLS-Ai-You-Wu-App-No.1317-Xiao-Lu-MrCong.com-030.jpg', 'E:\\\\get-link-idol\\\\data_cropped\\\\UGIRLS – Ai You Wu App No.1317 Xiao Lu (小鹿)\\\\UGIRLS-Ai-You-Wu-App-No.1317-Xiao-Lu-MrCong.com-031.jpg', 'E:\\\\get-link-idol\\\\data_cropped\\\\UGIRLS – Ai You Wu App No.1317 Xiao Lu (小鹿)\\\\UGIRLS-Ai-You-Wu-App-No.1317-Xiao-Lu-MrCong.com-032.jpg', 'E:\\\\get-link-idol\\\\data_cropped\\\\UGIRLS – Ai You Wu App No.1317 Xiao Lu (小鹿)\\\\UGIRLS-Ai-You-Wu-App-No.1317-Xiao-Lu-MrCong.com-033.jpg', 'E:\\\\get-link-idol\\\\data_cropped\\\\UGIRLS – Ai You Wu App No.1317 Xiao Lu (小鹿)\\\\UGIRLS-Ai-You-Wu-App-No.1317-Xiao-Lu-MrCong.com-034.jpg', 'E:\\\\get-link-idol\\\\data_cropped\\\\UGIRLS – Ai You Wu App No.1317 Xiao Lu (小鹿)\\\\UGIRLS-Ai-You-Wu-App-No.1317-Xiao-Lu-MrCong.com-035.jpg', 'E:\\\\get-link-idol\\\\data_cropped\\\\UGIRLS – Ai You Wu App No.1327 Bai Yi Han (白一晗)\\\\UGIRLS-Ai-You-Wu-App-No.1327-Bai-Yi-Han-MrCong.com-001.jpg', 'E:\\\\get-link-idol\\\\data_cropped\\\\UGIRLS – Ai You Wu App No.1327 Bai Yi Han (白一晗)\\\\UGIRLS-Ai-You-Wu-App-No.1327-Bai-Yi-Han-MrCong.com-002.jpg', 'E:\\\\get-link-idol\\\\data_cropped\\\\UGIRLS – Ai You Wu App No.1327 Bai Yi Han (白一晗)\\\\UGIRLS-Ai-You-Wu-App-No.1327-Bai-Yi-Han-MrCong.com-003.jpg', 'E:\\\\get-link-idol\\\\data_cropped\\\\UGIRLS – Ai You Wu App No.1327 Bai Yi Han (白一晗)\\\\UGIRLS-Ai-You-Wu-App-No.1327-Bai-Yi-Han-MrCong.com-004.jpg', 'E:\\\\get-link-idol\\\\data_cropped\\\\UGIRLS – Ai You Wu App No.1327 Bai Yi Han (白一晗)\\\\UGIRLS-Ai-You-Wu-App-No.1327-Bai-Yi-Han-MrCong.com-005.jpg', 'E:\\\\get-link-idol\\\\data_cropped\\\\UGIRLS – Ai You Wu App No.1327 Bai Yi Han (白一晗)\\\\UGIRLS-Ai-You-Wu-App-No.1327-Bai-Yi-Han-MrCong.com-006.jpg', 'E:\\\\get-link-idol\\\\data_cropped\\\\UGIRLS – Ai You Wu App No.1327 Bai Yi Han (白一晗)\\\\UGIRLS-Ai-You-Wu-App-No.1327-Bai-Yi-Han-MrCong.com-007.jpg'])",
      "\n",
      "\rImages processed:        8 of       14",
      "([<PIL.Image.Image image mode=RGB size=1024x1024 at 0x22FBAD47608>, <PIL.Image.Image image mode=RGB size=1024x1024 at 0x22FBAD47808>, <PIL.Image.Image image mode=RGB size=1024x1024 at 0x22FBAD47908>, <PIL.Image.Image image mode=RGB size=1024x1024 at 0x22FBAD4D5C8>, <PIL.Image.Image image mode=RGB size=1024x1024 at 0x22FBAD4D108>, <PIL.Image.Image image mode=RGB size=1024x1024 at 0x22FBAD4D208>, <PIL.Image.Image image mode=RGB size=1024x1024 at 0x22FBAD4D988>, <PIL.Image.Image image mode=RGB size=1024x1024 at 0x22FBAD4DA88>, <PIL.Image.Image image mode=RGB size=1024x1024 at 0x22FBAD4DC48>, <PIL.Image.Image image mode=RGB size=1024x1024 at 0x22FBAD4D288>, <PIL.Image.Image image mode=RGB size=1024x1024 at 0x22FBAD4DC88>, <PIL.Image.Image image mode=RGB size=1024x1024 at 0x22FBAD4DD48>, <PIL.Image.Image image mode=RGB size=1024x1024 at 0x22FBAD4DD88>, <PIL.Image.Image image mode=RGB size=1024x1024 at 0x22FBAD4DDC8>, <PIL.Image.Image image mode=RGB size=1024x1024 at 0x22FBAD52048>, <PIL.Image.Image image mode=RGB size=1024x1024 at 0x22FBAD520C8>], ['E:\\\\get-link-idol\\\\data_cropped\\\\UGIRLS – Ai You Wu App No.1327 Bai Yi Han (白一晗)\\\\UGIRLS-Ai-You-Wu-App-No.1327-Bai-Yi-Han-MrCong.com-008.jpg', 'E:\\\\get-link-idol\\\\data_cropped\\\\UGIRLS – Ai You Wu App No.1327 Bai Yi Han (白一晗)\\\\UGIRLS-Ai-You-Wu-App-No.1327-Bai-Yi-Han-MrCong.com-009.jpg', 'E:\\\\get-link-idol\\\\data_cropped\\\\UGIRLS – Ai You Wu App No.1327 Bai Yi Han (白一晗)\\\\UGIRLS-Ai-You-Wu-App-No.1327-Bai-Yi-Han-MrCong.com-010.jpg', 'E:\\\\get-link-idol\\\\data_cropped\\\\UGIRLS – Ai You Wu App No.1327 Bai Yi Han (白一晗)\\\\UGIRLS-Ai-You-Wu-App-No.1327-Bai-Yi-Han-MrCong.com-011.jpg', 'E:\\\\get-link-idol\\\\data_cropped\\\\UGIRLS – Ai You Wu App No.1327 Bai Yi Han (白一晗)\\\\UGIRLS-Ai-You-Wu-App-No.1327-Bai-Yi-Han-MrCong.com-012.jpg', 'E:\\\\get-link-idol\\\\data_cropped\\\\UGIRLS – Ai You Wu App No.1327 Bai Yi Han (白一晗)\\\\UGIRLS-Ai-You-Wu-App-No.1327-Bai-Yi-Han-MrCong.com-013.jpg', 'E:\\\\get-link-idol\\\\data_cropped\\\\UGIRLS – Ai You Wu App No.1327 Bai Yi Han (白一晗)\\\\UGIRLS-Ai-You-Wu-App-No.1327-Bai-Yi-Han-MrCong.com-014.jpg', 'E:\\\\get-link-idol\\\\data_cropped\\\\UGIRLS – Ai You Wu App No.1327 Bai Yi Han (白一晗)\\\\UGIRLS-Ai-You-Wu-App-No.1327-Bai-Yi-Han-MrCong.com-015.jpg', 'E:\\\\get-link-idol\\\\data_cropped\\\\UGIRLS – Ai You Wu App No.1327 Bai Yi Han (白一晗)\\\\UGIRLS-Ai-You-Wu-App-No.1327-Bai-Yi-Han-MrCong.com-016.jpg', 'E:\\\\get-link-idol\\\\data_cropped\\\\UGIRLS – Ai You Wu App No.1327 Bai Yi Han (白一晗)\\\\UGIRLS-Ai-You-Wu-App-No.1327-Bai-Yi-Han-MrCong.com-017.jpg', 'E:\\\\get-link-idol\\\\data_cropped\\\\UGIRLS – Ai You Wu App No.1327 Bai Yi Han (白一晗)\\\\UGIRLS-Ai-You-Wu-App-No.1327-Bai-Yi-Han-MrCong.com-018.jpg', 'E:\\\\get-link-idol\\\\data_cropped\\\\UGIRLS – Ai You Wu App No.1327 Bai Yi Han (白一晗)\\\\UGIRLS-Ai-You-Wu-App-No.1327-Bai-Yi-Han-MrCong.com-019.jpg', 'E:\\\\get-link-idol\\\\data_cropped\\\\UGIRLS – Ai You Wu App No.1327 Bai Yi Han (白一晗)\\\\UGIRLS-Ai-You-Wu-App-No.1327-Bai-Yi-Han-MrCong.com-020.jpg', 'E:\\\\get-link-idol\\\\data_cropped\\\\UGIRLS – Ai You Wu App No.1327 Bai Yi Han (白一晗)\\\\UGIRLS-Ai-You-Wu-App-No.1327-Bai-Yi-Han-MrCong.com-021.jpg', 'E:\\\\get-link-idol\\\\data_cropped\\\\UGIRLS – Ai You Wu App No.1327 Bai Yi Han (白一晗)\\\\UGIRLS-Ai-You-Wu-App-No.1327-Bai-Yi-Han-MrCong.com-022.jpg', 'E:\\\\get-link-idol\\\\data_cropped\\\\UGIRLS – Ai You Wu App No.1327 Bai Yi Han (白一晗)\\\\UGIRLS-Ai-You-Wu-App-No.1327-Bai-Yi-Han-MrCong.com-023.jpg'])",
      "\n",
      "\rImages processed:        9 of       14",
      "([<PIL.Image.Image image mode=RGB size=1024x1024 at 0x22FBAD4D8C8>, <PIL.Image.Image image mode=RGB size=1024x1024 at 0x22FBAD4D808>, <PIL.Image.Image image mode=RGB size=1024x1024 at 0x22FBAD4D888>, <PIL.Image.Image image mode=RGB size=1024x1024 at 0x22FBAD4D7C8>, <PIL.Image.Image image mode=RGB size=1024x1024 at 0x22FBAD4DB88>, <PIL.Image.Image image mode=RGB size=1024x1024 at 0x22FBAD4DAC8>, <PIL.Image.Image image mode=RGB size=1024x1024 at 0x22FBAD4DB48>, <PIL.Image.Image image mode=RGB size=1024x1024 at 0x22FBAD4DF08>, <PIL.Image.Image image mode=RGB size=1024x1024 at 0x22FBAD4DE48>, <PIL.Image.Image image mode=RGB size=1024x1024 at 0x22FBAD4D848>, <PIL.Image.Image image mode=RGB size=1024x1024 at 0x22F98A18CC8>, <PIL.Image.Image image mode=RGB size=1024x1024 at 0x22FBAD47DC8>, <PIL.Image.Image image mode=RGB size=1024x1024 at 0x22FBAD47F48>, <PIL.Image.Image image mode=RGB size=1024x1024 at 0x22FBAD52148>, <PIL.Image.Image image mode=RGB size=1024x1024 at 0x22FBAD52208>, <PIL.Image.Image image mode=RGB size=1024x1024 at 0x22FBAD52288>], ['E:\\\\get-link-idol\\\\data_cropped\\\\UGIRLS – Ai You Wu App No.1327 Bai Yi Han (白一晗)\\\\UGIRLS-Ai-You-Wu-App-No.1327-Bai-Yi-Han-MrCong.com-024.jpg', 'E:\\\\get-link-idol\\\\data_cropped\\\\UGIRLS – Ai You Wu App No.1327 Bai Yi Han (白一晗)\\\\UGIRLS-Ai-You-Wu-App-No.1327-Bai-Yi-Han-MrCong.com-025.jpg', 'E:\\\\get-link-idol\\\\data_cropped\\\\UGIRLS – Ai You Wu App No.1327 Bai Yi Han (白一晗)\\\\UGIRLS-Ai-You-Wu-App-No.1327-Bai-Yi-Han-MrCong.com-026.jpg', 'E:\\\\get-link-idol\\\\data_cropped\\\\UGIRLS – Ai You Wu App No.1327 Bai Yi Han (白一晗)\\\\UGIRLS-Ai-You-Wu-App-No.1327-Bai-Yi-Han-MrCong.com-027.jpg', 'E:\\\\get-link-idol\\\\data_cropped\\\\UGIRLS – Ai You Wu App No.1327 Bai Yi Han (白一晗)\\\\UGIRLS-Ai-You-Wu-App-No.1327-Bai-Yi-Han-MrCong.com-028.jpg', 'E:\\\\get-link-idol\\\\data_cropped\\\\UGIRLS – Ai You Wu App No.1327 Bai Yi Han (白一晗)\\\\UGIRLS-Ai-You-Wu-App-No.1327-Bai-Yi-Han-MrCong.com-029.jpg', 'E:\\\\get-link-idol\\\\data_cropped\\\\UGIRLS – Ai You Wu App No.1327 Bai Yi Han (白一晗)\\\\UGIRLS-Ai-You-Wu-App-No.1327-Bai-Yi-Han-MrCong.com-030.jpg', 'E:\\\\get-link-idol\\\\data_cropped\\\\UGIRLS – Ai You Wu App No.1327 Bai Yi Han (白一晗)\\\\UGIRLS-Ai-You-Wu-App-No.1327-Bai-Yi-Han-MrCong.com-031.jpg', 'E:\\\\get-link-idol\\\\data_cropped\\\\UGIRLS – Ai You Wu App No.1327 Bai Yi Han (白一晗)\\\\UGIRLS-Ai-You-Wu-App-No.1327-Bai-Yi-Han-MrCong.com-032.jpg', 'E:\\\\get-link-idol\\\\data_cropped\\\\UGIRLS – Ai You Wu App No.1327 Bai Yi Han (白一晗)\\\\UGIRLS-Ai-You-Wu-App-No.1327-Bai-Yi-Han-MrCong.com-033.jpg', 'E:\\\\get-link-idol\\\\data_cropped\\\\UGIRLS – Ai You Wu App No.1327 Bai Yi Han (白一晗)\\\\UGIRLS-Ai-You-Wu-App-No.1327-Bai-Yi-Han-MrCong.com-034.jpg', 'E:\\\\get-link-idol\\\\data_cropped\\\\UGIRLS – Ai You Wu App No.1327 Bai Yi Han (白一晗)\\\\UGIRLS-Ai-You-Wu-App-No.1327-Bai-Yi-Han-MrCong.com-035.jpg', 'E:\\\\get-link-idol\\\\data_cropped\\\\UGIRLS – Ai You Wu App No.1332 Han An Qi (韩安琪)\\\\UGIRLS-Ai-You-Wu-App-No.1332-Han-An-Qi-MrCong.com-001.jpg', 'E:\\\\get-link-idol\\\\data_cropped\\\\UGIRLS – Ai You Wu App No.1332 Han An Qi (韩安琪)\\\\UGIRLS-Ai-You-Wu-App-No.1332-Han-An-Qi-MrCong.com-002.jpg', 'E:\\\\get-link-idol\\\\data_cropped\\\\UGIRLS – Ai You Wu App No.1332 Han An Qi (韩安琪)\\\\UGIRLS-Ai-You-Wu-App-No.1332-Han-An-Qi-MrCong.com-003.jpg', 'E:\\\\get-link-idol\\\\data_cropped\\\\UGIRLS – Ai You Wu App No.1332 Han An Qi (韩安琪)\\\\UGIRLS-Ai-You-Wu-App-No.1332-Han-An-Qi-MrCong.com-004.jpg'])",
      "\n",
      "\rImages processed:       10 of       14",
      "([<PIL.Image.Image image mode=RGB size=1024x1024 at 0x22FBAD47808>, <PIL.Image.Image image mode=RGB size=1024x1024 at 0x22FBAD4D588>, <PIL.Image.Image image mode=RGB size=1024x1024 at 0x22FBAD4D948>, <PIL.Image.Image image mode=RGB size=1024x1024 at 0x22FBAD4DC48>, <PIL.Image.Image image mode=RGB size=1024x1024 at 0x22FBAD4DB08>, <PIL.Image.Image image mode=RGB size=1024x1024 at 0x22FBAD4DC88>, <PIL.Image.Image image mode=RGB size=1024x1024 at 0x22FBAD4DD48>, <PIL.Image.Image image mode=RGB size=1024x1024 at 0x22FBAD4DE08>, <PIL.Image.Image image mode=RGB size=1024x1024 at 0x22FBAD4DD88>, <PIL.Image.Image image mode=RGB size=1024x1024 at 0x22FBAD4DA08>, <PIL.Image.Image image mode=RGB size=1024x1024 at 0x22FBAD72AC8>, <PIL.Image.Image image mode=RGB size=1024x1024 at 0x22FBAD52108>, <PIL.Image.Image image mode=RGB size=1024x1024 at 0x22FBAD52048>, <PIL.Image.Image image mode=RGB size=1024x1024 at 0x22FBAD52188>, <PIL.Image.Image image mode=RGB size=1024x1024 at 0x22FBAD52388>, <PIL.Image.Image image mode=RGB size=1024x1024 at 0x22FBAD52408>], ['E:\\\\get-link-idol\\\\data_cropped\\\\UGIRLS – Ai You Wu App No.1332 Han An Qi (韩安琪)\\\\UGIRLS-Ai-You-Wu-App-No.1332-Han-An-Qi-MrCong.com-005.jpg', 'E:\\\\get-link-idol\\\\data_cropped\\\\UGIRLS – Ai You Wu App No.1332 Han An Qi (韩安琪)\\\\UGIRLS-Ai-You-Wu-App-No.1332-Han-An-Qi-MrCong.com-006.jpg', 'E:\\\\get-link-idol\\\\data_cropped\\\\UGIRLS – Ai You Wu App No.1332 Han An Qi (韩安琪)\\\\UGIRLS-Ai-You-Wu-App-No.1332-Han-An-Qi-MrCong.com-007.jpg', 'E:\\\\get-link-idol\\\\data_cropped\\\\UGIRLS – Ai You Wu App No.1332 Han An Qi (韩安琪)\\\\UGIRLS-Ai-You-Wu-App-No.1332-Han-An-Qi-MrCong.com-008.jpg', 'E:\\\\get-link-idol\\\\data_cropped\\\\UGIRLS – Ai You Wu App No.1332 Han An Qi (韩安琪)\\\\UGIRLS-Ai-You-Wu-App-No.1332-Han-An-Qi-MrCong.com-009.jpg', 'E:\\\\get-link-idol\\\\data_cropped\\\\UGIRLS – Ai You Wu App No.1332 Han An Qi (韩安琪)\\\\UGIRLS-Ai-You-Wu-App-No.1332-Han-An-Qi-MrCong.com-010.jpg', 'E:\\\\get-link-idol\\\\data_cropped\\\\UGIRLS – Ai You Wu App No.1332 Han An Qi (韩安琪)\\\\UGIRLS-Ai-You-Wu-App-No.1332-Han-An-Qi-MrCong.com-011.jpg', 'E:\\\\get-link-idol\\\\data_cropped\\\\UGIRLS – Ai You Wu App No.1332 Han An Qi (韩安琪)\\\\UGIRLS-Ai-You-Wu-App-No.1332-Han-An-Qi-MrCong.com-012.jpg', 'E:\\\\get-link-idol\\\\data_cropped\\\\UGIRLS – Ai You Wu App No.1332 Han An Qi (韩安琪)\\\\UGIRLS-Ai-You-Wu-App-No.1332-Han-An-Qi-MrCong.com-013.jpg', 'E:\\\\get-link-idol\\\\data_cropped\\\\UGIRLS – Ai You Wu App No.1332 Han An Qi (韩安琪)\\\\UGIRLS-Ai-You-Wu-App-No.1332-Han-An-Qi-MrCong.com-014.jpg', 'E:\\\\get-link-idol\\\\data_cropped\\\\UGIRLS – Ai You Wu App No.1332 Han An Qi (韩安琪)\\\\UGIRLS-Ai-You-Wu-App-No.1332-Han-An-Qi-MrCong.com-015.jpg', 'E:\\\\get-link-idol\\\\data_cropped\\\\UGIRLS – Ai You Wu App No.1332 Han An Qi (韩安琪)\\\\UGIRLS-Ai-You-Wu-App-No.1332-Han-An-Qi-MrCong.com-016.jpg', 'E:\\\\get-link-idol\\\\data_cropped\\\\UGIRLS – Ai You Wu App No.1332 Han An Qi (韩安琪)\\\\UGIRLS-Ai-You-Wu-App-No.1332-Han-An-Qi-MrCong.com-017.jpg', 'E:\\\\get-link-idol\\\\data_cropped\\\\UGIRLS – Ai You Wu App No.1332 Han An Qi (韩安琪)\\\\UGIRLS-Ai-You-Wu-App-No.1332-Han-An-Qi-MrCong.com-018.jpg', 'E:\\\\get-link-idol\\\\data_cropped\\\\UGIRLS – Ai You Wu App No.1332 Han An Qi (韩安琪)\\\\UGIRLS-Ai-You-Wu-App-No.1332-Han-An-Qi-MrCong.com-019.jpg', 'E:\\\\get-link-idol\\\\data_cropped\\\\UGIRLS – Ai You Wu App No.1332 Han An Qi (韩安琪)\\\\UGIRLS-Ai-You-Wu-App-No.1332-Han-An-Qi-MrCong.com-020.jpg'])",
      "\n",
      "\rImages processed:       11 of       14",
      "([<PIL.Image.Image image mode=RGB size=1024x1024 at 0x22FBAD4DB88>, <PIL.Image.Image image mode=RGB size=1024x1024 at 0x22FBAD4DF48>, <PIL.Image.Image image mode=RGB size=1024x1024 at 0x22FBAD4D748>, <PIL.Image.Image image mode=RGB size=1024x1024 at 0x22FBAD4DE48>, <PIL.Image.Image image mode=RGB size=1024x1024 at 0x22FBAD4DA88>, <PIL.Image.Image image mode=RGB size=1024x1024 at 0x22FBAD32E48>, <PIL.Image.Image image mode=RGB size=1024x1024 at 0x22FBAD23F08>, <PIL.Image.Image image mode=RGB size=1024x1024 at 0x22FBAD47DC8>, <PIL.Image.Image image mode=RGB size=1024x1024 at 0x22FBAD47C48>, <PIL.Image.Image image mode=RGB size=1024x1024 at 0x22FBAD4DF08>, <PIL.Image.Image image mode=RGB size=1024x1024 at 0x22FBAD521C8>, <PIL.Image.Image image mode=RGB size=1024x1024 at 0x22FBAD52248>, <PIL.Image.Image image mode=RGB size=1024x1024 at 0x22FBAD52208>, <PIL.Image.Image image mode=RGB size=1024x1024 at 0x22FBAD52308>, <PIL.Image.Image image mode=RGB size=1024x1024 at 0x22FBAD52508>, <PIL.Image.Image image mode=RGB size=1024x1024 at 0x22FBAD52588>], ['E:\\\\get-link-idol\\\\data_cropped\\\\UGIRLS – Ai You Wu App No.1332 Han An Qi (韩安琪)\\\\UGIRLS-Ai-You-Wu-App-No.1332-Han-An-Qi-MrCong.com-021.jpg', 'E:\\\\get-link-idol\\\\data_cropped\\\\UGIRLS – Ai You Wu App No.1332 Han An Qi (韩安琪)\\\\UGIRLS-Ai-You-Wu-App-No.1332-Han-An-Qi-MrCong.com-022.jpg', 'E:\\\\get-link-idol\\\\data_cropped\\\\UGIRLS – Ai You Wu App No.1332 Han An Qi (韩安琪)\\\\UGIRLS-Ai-You-Wu-App-No.1332-Han-An-Qi-MrCong.com-023.jpg', 'E:\\\\get-link-idol\\\\data_cropped\\\\UGIRLS – Ai You Wu App No.1332 Han An Qi (韩安琪)\\\\UGIRLS-Ai-You-Wu-App-No.1332-Han-An-Qi-MrCong.com-024.jpg', 'E:\\\\get-link-idol\\\\data_cropped\\\\UGIRLS – Ai You Wu App No.1332 Han An Qi (韩安琪)\\\\UGIRLS-Ai-You-Wu-App-No.1332-Han-An-Qi-MrCong.com-025.jpg', 'E:\\\\get-link-idol\\\\data_cropped\\\\UGIRLS – Ai You Wu App No.1332 Han An Qi (韩安琪)\\\\UGIRLS-Ai-You-Wu-App-No.1332-Han-An-Qi-MrCong.com-026.jpg', 'E:\\\\get-link-idol\\\\data_cropped\\\\UGIRLS – Ai You Wu App No.1332 Han An Qi (韩安琪)\\\\UGIRLS-Ai-You-Wu-App-No.1332-Han-An-Qi-MrCong.com-027.jpg', 'E:\\\\get-link-idol\\\\data_cropped\\\\UGIRLS – Ai You Wu App No.1332 Han An Qi (韩安琪)\\\\UGIRLS-Ai-You-Wu-App-No.1332-Han-An-Qi-MrCong.com-028.jpg', 'E:\\\\get-link-idol\\\\data_cropped\\\\UGIRLS – Ai You Wu App No.1332 Han An Qi (韩安琪)\\\\UGIRLS-Ai-You-Wu-App-No.1332-Han-An-Qi-MrCong.com-029.jpg', 'E:\\\\get-link-idol\\\\data_cropped\\\\UGIRLS – Ai You Wu App No.1332 Han An Qi (韩安琪)\\\\UGIRLS-Ai-You-Wu-App-No.1332-Han-An-Qi-MrCong.com-030.jpg', 'E:\\\\get-link-idol\\\\data_cropped\\\\UGIRLS – Ai You Wu App No.1332 Han An Qi (韩安琪)\\\\UGIRLS-Ai-You-Wu-App-No.1332-Han-An-Qi-MrCong.com-031.jpg', 'E:\\\\get-link-idol\\\\data_cropped\\\\UGIRLS – Ai You Wu App No.1332 Han An Qi (韩安琪)\\\\UGIRLS-Ai-You-Wu-App-No.1332-Han-An-Qi-MrCong.com-032.jpg', 'E:\\\\get-link-idol\\\\data_cropped\\\\UGIRLS – Ai You Wu App No.1332 Han An Qi (韩安琪)\\\\UGIRLS-Ai-You-Wu-App-No.1332-Han-An-Qi-MrCong.com-033.jpg', 'E:\\\\get-link-idol\\\\data_cropped\\\\UGIRLS – Ai You Wu App No.1332 Han An Qi (韩安琪)\\\\UGIRLS-Ai-You-Wu-App-No.1332-Han-An-Qi-MrCong.com-034.jpg', 'E:\\\\get-link-idol\\\\data_cropped\\\\UGIRLS – Ai You Wu App No.1332 Han An Qi (韩安琪)\\\\UGIRLS-Ai-You-Wu-App-No.1332-Han-An-Qi-MrCong.com-035.jpg', 'E:\\\\get-link-idol\\\\data_cropped\\\\UGIRLS – Ai You Wu App No.1372 Yi Yang (易阳)\\\\UGIRLS-Ai-You-Wu-App-No.1372-Yi-Yang-MrCong.com-001.jpg'])",
      "\n",
      "\rImages processed:       12 of       14",
      "([<PIL.Image.Image image mode=RGB size=1024x1024 at 0x22FBAD4D088>, <PIL.Image.Image image mode=RGB size=1024x1024 at 0x22FBAD4D9C8>, <PIL.Image.Image image mode=RGB size=1024x1024 at 0x22FBAD4DE08>, <PIL.Image.Image image mode=RGB size=1024x1024 at 0x22FBAD4DFC8>, <PIL.Image.Image image mode=RGB size=1024x1024 at 0x22FBAD4DD08>, <PIL.Image.Image image mode=RGB size=1024x1024 at 0x22FBAD4DD48>, <PIL.Image.Image image mode=RGB size=1024x1024 at 0x22FBAD4DDC8>, <PIL.Image.Image image mode=RGB size=1024x1024 at 0x22FBAD52108>, <PIL.Image.Image image mode=RGB size=1024x1024 at 0x22FBAD52048>, <PIL.Image.Image image mode=RGB size=1024x1024 at 0x22FBAD4DA08>, <PIL.Image.Image image mode=RGB size=1024x1024 at 0x22FBAD522C8>, <PIL.Image.Image image mode=RGB size=1024x1024 at 0x22FBAD523C8>, <PIL.Image.Image image mode=RGB size=1024x1024 at 0x22FBAD52488>, <PIL.Image.Image image mode=RGB size=1024x1024 at 0x22FBAD52688>, <PIL.Image.Image image mode=RGB size=1024x1024 at 0x22FBAD52648>, <PIL.Image.Image image mode=RGB size=1024x1024 at 0x22FBAD52748>], ['E:\\\\get-link-idol\\\\data_cropped\\\\UGIRLS – Ai You Wu App No.1372 Yi Yang (易阳)\\\\UGIRLS-Ai-You-Wu-App-No.1372-Yi-Yang-MrCong.com-002.jpg', 'E:\\\\get-link-idol\\\\data_cropped\\\\UGIRLS – Ai You Wu App No.1372 Yi Yang (易阳)\\\\UGIRLS-Ai-You-Wu-App-No.1372-Yi-Yang-MrCong.com-003.jpg', 'E:\\\\get-link-idol\\\\data_cropped\\\\UGIRLS – Ai You Wu App No.1372 Yi Yang (易阳)\\\\UGIRLS-Ai-You-Wu-App-No.1372-Yi-Yang-MrCong.com-004.jpg', 'E:\\\\get-link-idol\\\\data_cropped\\\\UGIRLS – Ai You Wu App No.1372 Yi Yang (易阳)\\\\UGIRLS-Ai-You-Wu-App-No.1372-Yi-Yang-MrCong.com-005.jpg', 'E:\\\\get-link-idol\\\\data_cropped\\\\UGIRLS – Ai You Wu App No.1372 Yi Yang (易阳)\\\\UGIRLS-Ai-You-Wu-App-No.1372-Yi-Yang-MrCong.com-006.jpg', 'E:\\\\get-link-idol\\\\data_cropped\\\\UGIRLS – Ai You Wu App No.1372 Yi Yang (易阳)\\\\UGIRLS-Ai-You-Wu-App-No.1372-Yi-Yang-MrCong.com-007.jpg', 'E:\\\\get-link-idol\\\\data_cropped\\\\UGIRLS – Ai You Wu App No.1372 Yi Yang (易阳)\\\\UGIRLS-Ai-You-Wu-App-No.1372-Yi-Yang-MrCong.com-008.jpg', 'E:\\\\get-link-idol\\\\data_cropped\\\\UGIRLS – Ai You Wu App No.1372 Yi Yang (易阳)\\\\UGIRLS-Ai-You-Wu-App-No.1372-Yi-Yang-MrCong.com-009.jpg', 'E:\\\\get-link-idol\\\\data_cropped\\\\UGIRLS – Ai You Wu App No.1372 Yi Yang (易阳)\\\\UGIRLS-Ai-You-Wu-App-No.1372-Yi-Yang-MrCong.com-010.jpg', 'E:\\\\get-link-idol\\\\data_cropped\\\\UGIRLS – Ai You Wu App No.1372 Yi Yang (易阳)\\\\UGIRLS-Ai-You-Wu-App-No.1372-Yi-Yang-MrCong.com-011.jpg', 'E:\\\\get-link-idol\\\\data_cropped\\\\UGIRLS – Ai You Wu App No.1372 Yi Yang (易阳)\\\\UGIRLS-Ai-You-Wu-App-No.1372-Yi-Yang-MrCong.com-012.jpg', 'E:\\\\get-link-idol\\\\data_cropped\\\\UGIRLS – Ai You Wu App No.1372 Yi Yang (易阳)\\\\UGIRLS-Ai-You-Wu-App-No.1372-Yi-Yang-MrCong.com-013.jpg', 'E:\\\\get-link-idol\\\\data_cropped\\\\UGIRLS – Ai You Wu App No.1372 Yi Yang (易阳)\\\\UGIRLS-Ai-You-Wu-App-No.1372-Yi-Yang-MrCong.com-014.jpg', 'E:\\\\get-link-idol\\\\data_cropped\\\\UGIRLS – Ai You Wu App No.1372 Yi Yang (易阳)\\\\UGIRLS-Ai-You-Wu-App-No.1372-Yi-Yang-MrCong.com-015.jpg', 'E:\\\\get-link-idol\\\\data_cropped\\\\UGIRLS – Ai You Wu App No.1372 Yi Yang (易阳)\\\\UGIRLS-Ai-You-Wu-App-No.1372-Yi-Yang-MrCong.com-016.jpg', 'E:\\\\get-link-idol\\\\data_cropped\\\\UGIRLS – Ai You Wu App No.1372 Yi Yang (易阳)\\\\UGIRLS-Ai-You-Wu-App-No.1372-Yi-Yang-MrCong.com-017.jpg'])",
      "\n",
      "\rImages processed:       13 of       14",
      "([<PIL.Image.Image image mode=RGB size=1024x1024 at 0x22F98A18CC8>, <PIL.Image.Image image mode=RGB size=1024x1024 at 0x22FBAD4DF48>, <PIL.Image.Image image mode=RGB size=1024x1024 at 0x22FBAD4DB48>, <PIL.Image.Image image mode=RGB size=1024x1024 at 0x22FBAD4DD88>, <PIL.Image.Image image mode=RGB size=1024x1024 at 0x22FBAD72AC8>, <PIL.Image.Image image mode=RGB size=1024x1024 at 0x22FBAD4DF08>, <PIL.Image.Image image mode=RGB size=1024x1024 at 0x22FBAD4DC48>, <PIL.Image.Image image mode=RGB size=1024x1024 at 0x22FBAD52248>, <PIL.Image.Image image mode=RGB size=1024x1024 at 0x22FBAD52208>, <PIL.Image.Image image mode=RGB size=1024x1024 at 0x22FBAD4D848>, <PIL.Image.Image image mode=RGB size=1024x1024 at 0x22FBAD52448>, <PIL.Image.Image image mode=RGB size=1024x1024 at 0x22FBAD52548>, <PIL.Image.Image image mode=RGB size=1024x1024 at 0x22FBAD52608>, <PIL.Image.Image image mode=RGB size=1024x1024 at 0x22FBAD52788>, <PIL.Image.Image image mode=RGB size=1024x1024 at 0x22FBAD52808>, <PIL.Image.Image image mode=RGB size=1024x1024 at 0x22FBAD528C8>], ['E:\\\\get-link-idol\\\\data_cropped\\\\UGIRLS – Ai You Wu App No.1372 Yi Yang (易阳)\\\\UGIRLS-Ai-You-Wu-App-No.1372-Yi-Yang-MrCong.com-018.jpg', 'E:\\\\get-link-idol\\\\data_cropped\\\\UGIRLS – Ai You Wu App No.1372 Yi Yang (易阳)\\\\UGIRLS-Ai-You-Wu-App-No.1372-Yi-Yang-MrCong.com-019.jpg', 'E:\\\\get-link-idol\\\\data_cropped\\\\UGIRLS – Ai You Wu App No.1372 Yi Yang (易阳)\\\\UGIRLS-Ai-You-Wu-App-No.1372-Yi-Yang-MrCong.com-020.jpg', 'E:\\\\get-link-idol\\\\data_cropped\\\\UGIRLS – Ai You Wu App No.1372 Yi Yang (易阳)\\\\UGIRLS-Ai-You-Wu-App-No.1372-Yi-Yang-MrCong.com-021.jpg', 'E:\\\\get-link-idol\\\\data_cropped\\\\UGIRLS – Ai You Wu App No.1372 Yi Yang (易阳)\\\\UGIRLS-Ai-You-Wu-App-No.1372-Yi-Yang-MrCong.com-022.jpg', 'E:\\\\get-link-idol\\\\data_cropped\\\\UGIRLS – Ai You Wu App No.1372 Yi Yang (易阳)\\\\UGIRLS-Ai-You-Wu-App-No.1372-Yi-Yang-MrCong.com-023.jpg', 'E:\\\\get-link-idol\\\\data_cropped\\\\UGIRLS – Ai You Wu App No.1372 Yi Yang (易阳)\\\\UGIRLS-Ai-You-Wu-App-No.1372-Yi-Yang-MrCong.com-024.jpg', 'E:\\\\get-link-idol\\\\data_cropped\\\\UGIRLS – Ai You Wu App No.1372 Yi Yang (易阳)\\\\UGIRLS-Ai-You-Wu-App-No.1372-Yi-Yang-MrCong.com-025.jpg', 'E:\\\\get-link-idol\\\\data_cropped\\\\UGIRLS – Ai You Wu App No.1372 Yi Yang (易阳)\\\\UGIRLS-Ai-You-Wu-App-No.1372-Yi-Yang-MrCong.com-026.jpg', 'E:\\\\get-link-idol\\\\data_cropped\\\\UGIRLS – Ai You Wu App No.1372 Yi Yang (易阳)\\\\UGIRLS-Ai-You-Wu-App-No.1372-Yi-Yang-MrCong.com-027.jpg', 'E:\\\\get-link-idol\\\\data_cropped\\\\UGIRLS – Ai You Wu App No.1372 Yi Yang (易阳)\\\\UGIRLS-Ai-You-Wu-App-No.1372-Yi-Yang-MrCong.com-028.jpg', 'E:\\\\get-link-idol\\\\data_cropped\\\\UGIRLS – Ai You Wu App No.1372 Yi Yang (易阳)\\\\UGIRLS-Ai-You-Wu-App-No.1372-Yi-Yang-MrCong.com-029.jpg', 'E:\\\\get-link-idol\\\\data_cropped\\\\UGIRLS – Ai You Wu App No.1372 Yi Yang (易阳)\\\\UGIRLS-Ai-You-Wu-App-No.1372-Yi-Yang-MrCong.com-030.jpg', 'E:\\\\get-link-idol\\\\data_cropped\\\\UGIRLS – Ai You Wu App No.1372 Yi Yang (易阳)\\\\UGIRLS-Ai-You-Wu-App-No.1372-Yi-Yang-MrCong.com-031.jpg', 'E:\\\\get-link-idol\\\\data_cropped\\\\UGIRLS – Ai You Wu App No.1372 Yi Yang (易阳)\\\\UGIRLS-Ai-You-Wu-App-No.1372-Yi-Yang-MrCong.com-032.jpg', 'E:\\\\get-link-idol\\\\data_cropped\\\\UGIRLS – Ai You Wu App No.1372 Yi Yang (易阳)\\\\UGIRLS-Ai-You-Wu-App-No.1372-Yi-Yang-MrCong.com-033.jpg'])",
      "\n",
      "\rImages processed:       14 of       14",
      "([<PIL.Image.Image image mode=RGB size=1024x1024 at 0x22FBAD4DD08>, <PIL.Image.Image image mode=RGB size=1024x1024 at 0x22FBAD4D6C8>], ['E:\\\\get-link-idol\\\\data_cropped\\\\UGIRLS – Ai You Wu App No.1372 Yi Yang (易阳)\\\\UGIRLS-Ai-You-Wu-App-No.1372-Yi-Yang-MrCong.com-034.jpg', 'E:\\\\get-link-idol\\\\data_cropped\\\\UGIRLS – Ai You Wu App No.1372 Yi Yang (易阳)\\\\UGIRLS-Ai-You-Wu-App-No.1372-Yi-Yang-MrCong.com-035.jpg'])",
      "\n"
     ],
     "output_type": "stream"
    }
   ],
   "source": [
    "#use MTCNN to crop\n",
    "\n",
    "batch_size = 15\n",
    "epochs = 8\n",
    "workers = 0 if os.name == 'nt' else 4\n",
    "\n",
    "\n",
    "mtcnn = MTCNN(\n",
    "    image_size=160, margin=0, min_face_size=20,\n",
    "    thresholds=[0.6, 0.6, 0.7], factor=0.789, prewhiten=True,\n",
    "    device=device)\n",
    "\n",
    "\n",
    "dataset = datasets.ImageFolder(dir, transform=transforms.Resize((1024, 1024)))\n",
    "dataset.samples = [(p, p.replace(dir, dir + '_cropped')) for p, _ in dataset.samples]\n",
    "\n",
    "# crop image\n",
    "loader = DataLoader(dataset, num_workers=workers, batch_size=16, collate_fn=training.collate_pil)\n",
    "\n",
    "\n",
    "for i, (x, y) in enumerate(loader):\n",
    "    print('\\rImages processed: {:8d} of {:8d}'.format(i + 1, len(loader)), end='')\n",
    "    mtcnn(x, save_path=y)\n",
    "    print((x, y))\n",
    "\n",
    "# Remove mtcnn to reduce GPU memory usage\n",
    "del mtcnn"
   ],
   "metadata": {
    "collapsed": false,
    "pycharm": {
     "name": "#%%\n",
     "is_executing": false
    }
   }
  },
  {
   "cell_type": "code",
   "execution_count": 2,
   "outputs": [],
   "source": [
    "num_workers = 0\n",
    "\n",
    "#load data and split\n",
    "batch_size = 20\n",
    "\n",
    "train_transforms = transforms.Compose([transforms.RandomResizedCrop(size=256, scale=(0.8, 1.0)),\n",
    "                                      transforms.RandomRotation(degrees=15),\n",
    "                                      transforms.ColorJitter(),\n",
    "                                      transforms.RandomHorizontalFlip(),\n",
    "                                      transforms.CenterCrop(size=224),  # Image net standards\n",
    "                                      transforms.ToTensor(),\n",
    "                                      transforms.Normalize([0.485, 0.456, 0.406],\n",
    "                                                           [0.229, 0.224, 0.225])\n",
    "                                      ])\n",
    "\n",
    "valid_size = 0.2\n",
    "test_size = 0.1\n",
    "train_size = 1 - valid_size - test_size\n",
    "\n",
    "dataset = datasets.ImageFolder(dir + '_cropped', transform=train_transforms)\n",
    "img_inds = np.arange(len(dataset))\n",
    "np.random.shuffle(img_inds)\n",
    "\n",
    "\n",
    "train_inds = img_inds[:int((train_size) * len(img_inds))]\n",
    "val_inds = img_inds[int(test_size * len(img_inds)) : int((test_size + valid_size) * len(img_inds))]\n",
    "test_inds = img_inds[:int(test_size * len(img_inds))]\n",
    "\n",
    "\n",
    "train_sampler = SubsetRandomSampler(train_inds)\n",
    "valid_sampler = SubsetRandomSampler(val_inds) \n",
    "test_sampler = SubsetRandomSampler(test_inds)\n",
    "\n",
    "train_loader = torch.utils.data.DataLoader(dataset, batch_size=batch_size,\n",
    "    sampler=train_sampler, num_workers=num_workers)\n",
    "valid_loader = torch.utils.data.DataLoader(dataset, batch_size=batch_size, \n",
    "    sampler=valid_sampler, num_workers=num_workers)\n",
    "test_loader = torch.utils.data.DataLoader(dataset, batch_size=batch_size, \n",
    "    sampler=test_sampler, num_workers=num_workers)\n"
   ],
   "metadata": {
    "collapsed": false,
    "pycharm": {
     "name": "#%%\n",
     "is_executing": false
    }
   }
  },
  {
   "cell_type": "code",
   "execution_count": 3,
   "outputs": [],
   "source": [
    "#load vgg for classification\n",
    "\n",
    "\n",
    "model = models.vgg19(pretrained=True)\n",
    "\n",
    "# Freeze training for all layers\n",
    "for param in model.features.parameters():\n",
    "    param.require_grad = False\n",
    "#change last layer    \n",
    "num_features = model.classifier[6].in_features    \n",
    "model.classifier[6] = torch.nn.Linear(num_features, num_classes)\n",
    "model.to(device)\n",
    "\n",
    "#set hyperparameters\n",
    "criterion = torch.nn.CrossEntropyLoss()\n",
    "optimizer = torch.optim.Adam(model.classifier.parameters(), lr=0.003)\n",
    "\n"
   ],
   "metadata": {
    "collapsed": false,
    "pycharm": {
     "name": "#%%\n",
     "is_executing": false
    }
   }
  },
  {
   "cell_type": "code",
   "execution_count": 5,
   "outputs": [
    {
     "name": "stdout",
     "text": [
      "Epoch: 1 \tTraining Loss: 2.180842 \tValidation Loss: 1.481207 \tTrain Accuracy: 0.623810 \tValidation Accuracy: 0.564706",
      "\n",
      "Validation loss decreased (inf --> 1.481207).  Saving model ...",
      "\n",
      "Time per epoch: 11.293 seconds",
      "\n",
      "Epoch: 2 \tTraining Loss: 2.026152 \tValidation Loss: 1.307078 \tTrain Accuracy: 0.689683 \tValidation Accuracy: 0.748529",
      "\n",
      "Validation loss decreased (1.481207 --> 1.307078).  Saving model ...",
      "\n",
      "Time per epoch: 8.950 seconds",
      "\n",
      "Epoch: 3 \tTraining Loss: 2.487814 \tValidation Loss: 0.626682 \tTrain Accuracy: 0.619048 \tValidation Accuracy: 0.832353",
      "\n",
      "Validation loss decreased (1.307078 --> 0.626682).  Saving model ...",
      "\n",
      "Time per epoch: 10.096 seconds",
      "\n",
      "Epoch: 4 \tTraining Loss: 3.340319 \tValidation Loss: 1.302061 \tTrain Accuracy: 0.623810 \tValidation Accuracy: 0.827941",
      "\n",
      "Time per epoch: 4.600 seconds",
      "\n",
      "Epoch: 5 \tTraining Loss: 4.065607 \tValidation Loss: 0.513181 \tTrain Accuracy: 0.645238 \tValidation Accuracy: 0.866176",
      "\n",
      "Validation loss decreased (0.626682 --> 0.513181).  Saving model ...",
      "\n",
      "Time per epoch: 13.694 seconds",
      "\n",
      "Epoch: 6 \tTraining Loss: 7.468383 \tValidation Loss: 0.675800 \tTrain Accuracy: 0.533333 \tValidation Accuracy: 0.920588",
      "\n",
      "Time per epoch: 4.649 seconds",
      "\n",
      "Epoch: 7 \tTraining Loss: 4.132162 \tValidation Loss: 0.843962 \tTrain Accuracy: 0.707937 \tValidation Accuracy: 0.895588",
      "\n",
      "Time per epoch: 4.680 seconds",
      "\n",
      "Epoch: 8 \tTraining Loss: 3.947668 \tValidation Loss: 0.282701 \tTrain Accuracy: 0.666667 \tValidation Accuracy: 0.900000",
      "\n",
      "Validation loss decreased (0.513181 --> 0.282701).  Saving model ...",
      "\n",
      "Time per epoch: 11.022 seconds",
      "\n",
      "Epoch: 9 \tTraining Loss: 4.441481 \tValidation Loss: 1.722082 \tTrain Accuracy: 0.712698 \tValidation Accuracy: 0.816176",
      "\n",
      "Time per epoch: 6.844 seconds",
      "\n",
      "Epoch: 10 \tTraining Loss: 3.399430 \tValidation Loss: 1.523675 \tTrain Accuracy: 0.730952 \tValidation Accuracy: 0.782353",
      "\n",
      "Time per epoch: 7.717 seconds",
      "\n",
      "Epoch: 11 \tTraining Loss: 3.833068 \tValidation Loss: 0.864327 \tTrain Accuracy: 0.723810 \tValidation Accuracy: 0.836765",
      "\n",
      "Time per epoch: 9.517 seconds",
      "\n",
      "Epoch: 12 \tTraining Loss: 6.558653 \tValidation Loss: 1.075306 \tTrain Accuracy: 0.723810 \tValidation Accuracy: 0.861765",
      "\n",
      "Time per epoch: 7.829 seconds",
      "\n",
      "Epoch: 13 \tTraining Loss: 5.152909 \tValidation Loss: 0.549884 \tTrain Accuracy: 0.738095 \tValidation Accuracy: 0.911765",
      "\n",
      "Time per epoch: 6.791 seconds",
      "\n",
      "Epoch: 14 \tTraining Loss: 4.103277 \tValidation Loss: 1.471268 \tTrain Accuracy: 0.716667 \tValidation Accuracy: 0.866176",
      "\n",
      "Time per epoch: 7.226 seconds",
      "\n",
      "Epoch: 15 \tTraining Loss: 4.440191 \tValidation Loss: 0.587673 \tTrain Accuracy: 0.723810 \tValidation Accuracy: 0.916176",
      "\n",
      "Time per epoch: 5.466 seconds",
      "\n"
     ],
     "output_type": "stream"
    }
   ],
   "source": [
    "#trainning\n",
    "def train(model, train_loader, valid_loader, criterion, optimizer, num_epochs=10):\n",
    "    valid_loss_min = np.Inf\n",
    "    for epoch in range(num_epochs):\n",
    "    \n",
    "        start = time.time()\n",
    "        \n",
    "        #run on training set\n",
    "        model.train()\n",
    "        \n",
    "        train_loss = 0.0\n",
    "        valid_loss = 0.0\n",
    "        train_acc = 0.0\n",
    "        val_acc =0.0\n",
    "        for inputs, labels in train_loader:\n",
    "            \n",
    "           \n",
    "            # Move input and label tensors to the default device\n",
    "            inputs, labels = inputs.to(device), labels.to(device)\n",
    "            \n",
    "            optimizer.zero_grad()\n",
    "            \n",
    "            output = model(inputs)\n",
    "            loss = criterion(output, labels)\n",
    "            loss.backward()\n",
    "            optimizer.step()\n",
    "            train_loss += loss.item()\n",
    "            \n",
    "            ps = torch.exp(output)\n",
    "            top_p, top_class = ps.topk(1, dim=1)\n",
    "            equals = top_class == labels.view(*top_class.shape)\n",
    "            train_acc += torch.mean(equals.type(torch.FloatTensor)).item()\n",
    "        #train on validation set   \n",
    "        model.eval()\n",
    "        \n",
    "        with torch.no_grad():\n",
    "        \n",
    "            for inputs, labels in valid_loader:\n",
    "                \n",
    "                inputs, labels = inputs.to(device), labels.to(device)\n",
    "                output = model.forward(inputs)\n",
    "                batch_loss = criterion(output, labels)\n",
    "                valid_loss += batch_loss.item()\n",
    "    \n",
    "                ps = torch.exp(output)\n",
    "                top_p, top_class = ps.topk(1, dim=1)\n",
    "                equals = top_class == labels.view(*top_class.shape)\n",
    "                val_acc += torch.mean(equals.type(torch.FloatTensor)).item()\n",
    "                    \n",
    "            \n",
    "            \n",
    "# calculate average losses and acc\n",
    "        train_loss = train_loss/len(train_loader)\n",
    "        valid_loss = valid_loss/len(valid_loader)\n",
    "        train_accuracy = train_acc/len(train_loader)\n",
    "        valid_accuracy = val_acc/len(valid_loader) \n",
    "          \n",
    "        # print training/validation statistics \n",
    "        print('Epoch: {} \\tTraining Loss: {:.6f} \\tValidation Loss: {:.6f} '\n",
    "              '\\tTrain Accuracy: {:6f} \\tValidation Accuracy: {:.6f}'.format(\n",
    "            epoch + 1, train_loss, valid_loss , train_accuracy, valid_accuracy))\n",
    "                \n",
    "        \n",
    "        #save model\n",
    "        if valid_loss <= valid_loss_min:\n",
    "          \n",
    "          \n",
    "            print('Validation loss decreased ({:.6f} --> {:.6f}).  Saving model ...'.format(\n",
    "            valid_loss_min,\n",
    "            valid_loss))\n",
    "            model_save_name = \"get_idol.pt\"\n",
    "            path = os.path.join(dir, model_save_name)\n",
    "            torch.save(model.state_dict(), path)\n",
    "            valid_loss_min = valid_loss        \n",
    "           \n",
    "        print(f\"Time per epoch: {(time.time() - start):.3f} seconds\")\n",
    "\n",
    "\n",
    "train(model, train_loader, valid_loader, criterion, optimizer, num_epochs=15)"
   ],
   "metadata": {
    "collapsed": false,
    "pycharm": {
     "name": "#%%\n",
     "is_executing": false
    }
   }
  },
  {
   "cell_type": "code",
   "execution_count": 8,
   "outputs": [
    {
     "name": "stdout",
     "text": [
      "Test Loss: 5.998979\n",
      "\n",
      "\nTest Accuracy: 88% (16/18)",
      "\n"
     ],
     "output_type": "stream"
    }
   ],
   "source": [
    "#load model\n",
    "model.load_state_dict(torch.load(os.path.join(dir,'get_idol.pt')))\n",
    "\n",
    "\n",
    "def test(model, criterion, loader):\n",
    "# monitor test loss and accuracy\n",
    "    test_loss = 0.\n",
    "    correct = 0.\n",
    "    total = 0.\n",
    "    for batch_idx, (data, target) in enumerate(loader):\n",
    "        # move to GPU\n",
    "        if torch.cuda.is_available():\n",
    "            data, target = data.cuda(), target.cuda()\n",
    "        # forward pass: compute predicted outputs by passing inputs to the model\n",
    "        output = model(data)\n",
    "        # calculate the loss\n",
    "        loss = criterion(output, target)\n",
    "        # update average test loss \n",
    "        test_loss = test_loss + ((1 / (batch_idx + 1)) * (loss.data - test_loss))\n",
    "        # convert output probabilities to predicted class\n",
    "        pred = output.data.max(1, keepdim=True)[1]\n",
    "        # compare predictions to true label\n",
    "        correct += np.sum(np.squeeze(pred.eq(target.data.view_as(pred))).cpu().numpy())\n",
    "        total += data.size(0)\n",
    "            \n",
    "        print('Test Loss: {:.6f}\\n'.format(test_loss))\n",
    "    print('\\nTest Accuracy: %2d%% (%2d/%2d)' % (\n",
    "        100. * correct / total, correct, total))\n",
    "test(model, criterion, test_loader)\n",
    "\n"
   ],
   "metadata": {
    "collapsed": false,
    "pycharm": {
     "name": "#%%\n",
     "is_executing": false
    }
   }
  },
  {
   "cell_type": "code",
   "execution_count": 8,
   "outputs": [
    {
     "traceback": [
      "\u001b[1;31m---------------------------------------------------------------------------\u001b[0m",
      "\u001b[1;31mNameError\u001b[0m                                 Traceback (most recent call last)",
      "\u001b[1;32m<ipython-input-8-3608badd28ce>\u001b[0m in \u001b[0;36m<module>\u001b[1;34m\u001b[0m\n\u001b[1;32m----> 1\u001b[1;33m \u001b[1;32mdel\u001b[0m \u001b[0mmtcnn\u001b[0m\u001b[1;33m\u001b[0m\u001b[1;33m\u001b[0m\u001b[0m\n\u001b[0m\u001b[0;32m      2\u001b[0m \u001b[1;33m\u001b[0m\u001b[0m\n\u001b[0;32m      3\u001b[0m \u001b[1;33m\u001b[0m\u001b[0m\n\u001b[0;32m      4\u001b[0m \u001b[1;33m\u001b[0m\u001b[0m\n",
      "\u001b[1;31mNameError\u001b[0m: name 'mtcnn' is not defined"
     ],
     "ename": "NameError",
     "evalue": "name 'mtcnn' is not defined",
     "output_type": "error"
    }
   ],
   "source": [
    "\n",
    "\n"
   ],
   "metadata": {
    "collapsed": false,
    "pycharm": {
     "name": "#%%\n",
     "is_executing": false
    }
   }
  },
  {
   "cell_type": "code",
   "execution_count": 9,
   "outputs": [],
   "source": [
    "torch.cuda.empty_cache()\n"
   ],
   "metadata": {
    "collapsed": false,
    "pycharm": {
     "name": "#%%\n",
     "is_executing": false
    }
   }
  },
  {
   "cell_type": "code",
   "execution_count": null,
   "outputs": [],
   "source": [
    "\n"
   ],
   "metadata": {
    "collapsed": false,
    "pycharm": {
     "name": "#%%\n",
     "is_executing": false
    }
   }
  }
 ],
 "metadata": {
  "kernelspec": {
   "display_name": "Python 3",
   "language": "python",
   "name": "python3"
  },
  "language_info": {
   "codemirror_mode": {
    "name": "ipython",
    "version": 2
   },
   "file_extension": ".py",
   "mimetype": "text/x-python",
   "name": "python",
   "nbconvert_exporter": "python",
   "pygments_lexer": "ipython2",
   "version": "2.7.6"
  },
  "pycharm": {
   "stem_cell": {
    "cell_type": "raw",
    "source": [],
    "metadata": {
     "collapsed": false
    }
   }
  }
 },
 "nbformat": 4,
 "nbformat_minor": 0
}